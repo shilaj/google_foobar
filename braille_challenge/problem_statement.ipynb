{
 "cells": [
  {
   "cell_type": "markdown",
   "metadata": {},
   "source": [
    "#### Because Commander Lambda is an equal-opportunity despot, she has several visually-impaired minions. But she never bothered to follow intergalactic standards for workplace accommodations, so those minions have a hard time navigating her space station. You figure printing out Braille signs will help them, and – since you’ll be promoting efficiency at the same time – increase your chances of a promotion. Braille is a writing system used to read by touch instead of by sight. Each character is composed of 6 dots in a 2×3 grid, where each dot can either be a bump or be flat (no bump). You plan to translate the signs around the space station to Braille so that the minions under Commander Lambda’s command can feel the bumps on the signs and “read” the text with their touch. The special printer which can print the bumps onto the signs expects the dots in the following order:"
   ]
  },
  {
   "cell_type": "code",
   "execution_count": 1,
   "metadata": {},
   "outputs": [],
   "source": [
    "# 1 4\n",
    "# 2 5\n",
    "# 3 6"
   ]
  },
  {
   "cell_type": "code",
   "execution_count": 2,
   "metadata": {},
   "outputs": [],
   "source": [
    "# 11 10 11 10\n",
    "# 00 01 01 01\n",
    "# 00 10 00 00 "
   ]
  },
  {
   "cell_type": "markdown",
   "metadata": {},
   "source": [
    "#### Write a function where 1 represents a bump and 0 represents no bump. Put together, “code” becomes the output string “100100101010100110100010”. Write a function answer(plaintext) that takes a string parameter and returns a string of 1’s and 0’s representing the bumps and absence of bumps in the input string. Your function should be able to encode the 26 lowercase letters, handle capital letters by adding a Braille capitalization mark before that character, and use a blank character (000000) for spaces. All signs on the space station are less than fifty characters long and use only letters and spaces."
   ]
  },
  {
   "cell_type": "markdown",
   "metadata": {},
   "source": [
    "Inputs:\n",
    "  (string) plaintext = \"code\"\n",
    "\n",
    "Output:\n",
    "  (string) \"100100101010100110100010\"\n",
    "\n",
    "Inputs:\n",
    "  (string) plaintext = \"Braille\"\n",
    "\n",
    "Output:\n",
    "  (string) \"000001110000111010100000010100111000111000100010\"\n",
    "\n",
    "Inputs:\n",
    "  (string) plaintext = \"The quick brown fox jumped over the lazy dog\"\n",
    "\n",
    "Output:\n",
    "  (string) \"000001011110110010100010000000111110101001010100100100101000000000110000111010101010010111101110000000110100101010101101000000"
   ]
  },
  {
   "cell_type": "markdown",
   "metadata": {},
   "source": [
    "Use verify [file] to test your solution and see how it does. When you are finished editing your code, use submit [file] to submit your answer. If your solution passes the test cases, it will be removed from your home folder."
   ]
  }
 ],
 "metadata": {
  "kernelspec": {
   "display_name": "Python 3.10.4 64-bit",
   "language": "python",
   "name": "python3"
  },
  "language_info": {
   "name": "python",
   "version": "3.10.4"
  },
  "orig_nbformat": 4,
  "vscode": {
   "interpreter": {
    "hash": "1593aee9c3dc004ac971b183703cd93eab774199c61bfbcfc4db82ba1812f46a"
   }
  }
 },
 "nbformat": 4,
 "nbformat_minor": 2
}
